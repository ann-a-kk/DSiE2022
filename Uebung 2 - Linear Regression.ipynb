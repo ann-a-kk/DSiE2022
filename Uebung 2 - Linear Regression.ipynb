{
 "cells": [
  {
   "cell_type": "code",
   "execution_count": 1,
   "id": "64d96fb0",
   "metadata": {},
   "outputs": [],
   "source": [
    "import numpy as np\n",
    "import pandas as pd\n",
    "import matplotlib.pyplot as plt\n",
    "import seaborn as sb"
   ]
  },
  {
   "cell_type": "code",
   "execution_count": 2,
   "id": "d232d559",
   "metadata": {},
   "outputs": [],
   "source": [
    "# Load data file --> without second header row (only necessary for data_flash.xlsx)\n",
    "df = pd.read_excel('Data/data_manufacturing.xlsx')"
   ]
  },
  {
   "cell_type": "code",
   "execution_count": 3,
   "id": "07cfb80d",
   "metadata": {
    "scrolled": true
   },
   "outputs": [
    {
     "data": {
      "text/html": [
       "<div>\n",
       "<style scoped>\n",
       "    .dataframe tbody tr th:only-of-type {\n",
       "        vertical-align: middle;\n",
       "    }\n",
       "\n",
       "    .dataframe tbody tr th {\n",
       "        vertical-align: top;\n",
       "    }\n",
       "\n",
       "    .dataframe thead th {\n",
       "        text-align: right;\n",
       "    }\n",
       "</style>\n",
       "<table border=\"1\" class=\"dataframe\">\n",
       "  <thead>\n",
       "    <tr style=\"text-align: right;\">\n",
       "      <th></th>\n",
       "      <th>API Particle Size</th>\n",
       "      <th>Mill Time</th>\n",
       "      <th>Screen Size</th>\n",
       "      <th>MgSt Supplier</th>\n",
       "      <th>Lactose Supplier</th>\n",
       "      <th>Sugar Supplier</th>\n",
       "      <th>Talc Supplier</th>\n",
       "      <th>Blend Time</th>\n",
       "      <th>Blend Speed</th>\n",
       "      <th>Compressor</th>\n",
       "      <th>Force</th>\n",
       "      <th>Coating Supplier</th>\n",
       "      <th>Coating Viscosity</th>\n",
       "      <th>Inlet Temp</th>\n",
       "      <th>Exhaust Temp</th>\n",
       "      <th>Spray Rate</th>\n",
       "      <th>Atom. Pressure</th>\n",
       "      <th>Dissolution</th>\n",
       "    </tr>\n",
       "  </thead>\n",
       "  <tbody>\n",
       "    <tr>\n",
       "      <th>0</th>\n",
       "      <td>Small</td>\n",
       "      <td>27</td>\n",
       "      <td>4</td>\n",
       "      <td>Smith Ind</td>\n",
       "      <td>James Ind</td>\n",
       "      <td>Sour</td>\n",
       "      <td>Rough</td>\n",
       "      <td>16.043199</td>\n",
       "      <td>59.887383</td>\n",
       "      <td>COMPRESS2</td>\n",
       "      <td>25.466691</td>\n",
       "      <td>Mac</td>\n",
       "      <td>105.361158</td>\n",
       "      <td>107.945228</td>\n",
       "      <td>70.458995</td>\n",
       "      <td>404.603294</td>\n",
       "      <td>61.007068</td>\n",
       "      <td>79.86</td>\n",
       "    </tr>\n",
       "    <tr>\n",
       "      <th>1</th>\n",
       "      <td>Small</td>\n",
       "      <td>11</td>\n",
       "      <td>5</td>\n",
       "      <td>Jones Inc</td>\n",
       "      <td>James Ind</td>\n",
       "      <td>Sour</td>\n",
       "      <td>Smooth</td>\n",
       "      <td>14.361549</td>\n",
       "      <td>59.793030</td>\n",
       "      <td>COMPRESS2</td>\n",
       "      <td>24.934062</td>\n",
       "      <td>Mac</td>\n",
       "      <td>100.232484</td>\n",
       "      <td>107.540101</td>\n",
       "      <td>70.823684</td>\n",
       "      <td>407.367163</td>\n",
       "      <td>60.571220</td>\n",
       "      <td>72.82</td>\n",
       "    </tr>\n",
       "    <tr>\n",
       "      <th>2</th>\n",
       "      <td>Small</td>\n",
       "      <td>20</td>\n",
       "      <td>4</td>\n",
       "      <td>Jones Inc</td>\n",
       "      <td>Bond Inc</td>\n",
       "      <td>Sour</td>\n",
       "      <td>Rough</td>\n",
       "      <td>14.458745</td>\n",
       "      <td>60.797487</td>\n",
       "      <td>COMPRESS2</td>\n",
       "      <td>25.503908</td>\n",
       "      <td>Down</td>\n",
       "      <td>100.271603</td>\n",
       "      <td>106.605861</td>\n",
       "      <td>69.197350</td>\n",
       "      <td>399.301868</td>\n",
       "      <td>59.088228</td>\n",
       "      <td>74.18</td>\n",
       "    </tr>\n",
       "    <tr>\n",
       "      <th>3</th>\n",
       "      <td>Small</td>\n",
       "      <td>13</td>\n",
       "      <td>3</td>\n",
       "      <td>Smith Ind</td>\n",
       "      <td>Bond Inc</td>\n",
       "      <td>Sweet</td>\n",
       "      <td>Smooth</td>\n",
       "      <td>14.412131</td>\n",
       "      <td>59.398624</td>\n",
       "      <td>COMPRESS1</td>\n",
       "      <td>24.787632</td>\n",
       "      <td>Mac</td>\n",
       "      <td>98.008134</td>\n",
       "      <td>106.093734</td>\n",
       "      <td>68.809087</td>\n",
       "      <td>403.733927</td>\n",
       "      <td>58.844630</td>\n",
       "      <td>69.14</td>\n",
       "    </tr>\n",
       "    <tr>\n",
       "      <th>4</th>\n",
       "      <td>Small</td>\n",
       "      <td>13</td>\n",
       "      <td>5</td>\n",
       "      <td>Smith Ind</td>\n",
       "      <td>James Ind</td>\n",
       "      <td>Sweet</td>\n",
       "      <td>Smooth</td>\n",
       "      <td>16.111780</td>\n",
       "      <td>59.921639</td>\n",
       "      <td>COMPRESS2</td>\n",
       "      <td>25.316775</td>\n",
       "      <td>Down</td>\n",
       "      <td>97.582630</td>\n",
       "      <td>108.257381</td>\n",
       "      <td>69.447385</td>\n",
       "      <td>396.709347</td>\n",
       "      <td>59.589137</td>\n",
       "      <td>73.30</td>\n",
       "    </tr>\n",
       "    <tr>\n",
       "      <th>...</th>\n",
       "      <td>...</td>\n",
       "      <td>...</td>\n",
       "      <td>...</td>\n",
       "      <td>...</td>\n",
       "      <td>...</td>\n",
       "      <td>...</td>\n",
       "      <td>...</td>\n",
       "      <td>...</td>\n",
       "      <td>...</td>\n",
       "      <td>...</td>\n",
       "      <td>...</td>\n",
       "      <td>...</td>\n",
       "      <td>...</td>\n",
       "      <td>...</td>\n",
       "      <td>...</td>\n",
       "      <td>...</td>\n",
       "      <td>...</td>\n",
       "      <td>...</td>\n",
       "    </tr>\n",
       "    <tr>\n",
       "      <th>85</th>\n",
       "      <td>Large</td>\n",
       "      <td>5</td>\n",
       "      <td>4</td>\n",
       "      <td>Smith Ind</td>\n",
       "      <td>James Ind</td>\n",
       "      <td>Sour</td>\n",
       "      <td>Smooth</td>\n",
       "      <td>13.836013</td>\n",
       "      <td>59.105242</td>\n",
       "      <td>COMPRESS2</td>\n",
       "      <td>25.329694</td>\n",
       "      <td>Coat</td>\n",
       "      <td>101.600640</td>\n",
       "      <td>107.945423</td>\n",
       "      <td>69.915316</td>\n",
       "      <td>401.016280</td>\n",
       "      <td>61.196363</td>\n",
       "      <td>70.58</td>\n",
       "    </tr>\n",
       "    <tr>\n",
       "      <th>86</th>\n",
       "      <td>Large</td>\n",
       "      <td>14</td>\n",
       "      <td>3</td>\n",
       "      <td>Smith Ind</td>\n",
       "      <td>Bond Inc</td>\n",
       "      <td>Sweet</td>\n",
       "      <td>Rough</td>\n",
       "      <td>16.963847</td>\n",
       "      <td>61.302848</td>\n",
       "      <td>COMPRESS2</td>\n",
       "      <td>24.578408</td>\n",
       "      <td>Coat</td>\n",
       "      <td>102.168031</td>\n",
       "      <td>107.372107</td>\n",
       "      <td>70.598444</td>\n",
       "      <td>402.636540</td>\n",
       "      <td>59.608586</td>\n",
       "      <td>69.70</td>\n",
       "    </tr>\n",
       "    <tr>\n",
       "      <th>87</th>\n",
       "      <td>Large</td>\n",
       "      <td>9</td>\n",
       "      <td>5</td>\n",
       "      <td>Smith Ind</td>\n",
       "      <td>Bond Inc</td>\n",
       "      <td>Sour</td>\n",
       "      <td>Rough</td>\n",
       "      <td>16.505517</td>\n",
       "      <td>61.216797</td>\n",
       "      <td>COMPRESS2</td>\n",
       "      <td>25.013860</td>\n",
       "      <td>Mac</td>\n",
       "      <td>94.154164</td>\n",
       "      <td>107.142674</td>\n",
       "      <td>69.645683</td>\n",
       "      <td>398.417407</td>\n",
       "      <td>61.742415</td>\n",
       "      <td>77.22</td>\n",
       "    </tr>\n",
       "    <tr>\n",
       "      <th>88</th>\n",
       "      <td>Large</td>\n",
       "      <td>24</td>\n",
       "      <td>4</td>\n",
       "      <td>Smith Ind</td>\n",
       "      <td>James Ind</td>\n",
       "      <td>Sour</td>\n",
       "      <td>Smooth</td>\n",
       "      <td>15.339437</td>\n",
       "      <td>60.448580</td>\n",
       "      <td>COMPRESS1</td>\n",
       "      <td>25.306691</td>\n",
       "      <td>Down</td>\n",
       "      <td>92.519135</td>\n",
       "      <td>107.320049</td>\n",
       "      <td>70.785988</td>\n",
       "      <td>404.073722</td>\n",
       "      <td>61.721232</td>\n",
       "      <td>78.58</td>\n",
       "    </tr>\n",
       "    <tr>\n",
       "      <th>89</th>\n",
       "      <td>Large</td>\n",
       "      <td>13</td>\n",
       "      <td>5</td>\n",
       "      <td>Jones Inc</td>\n",
       "      <td>Bond Inc</td>\n",
       "      <td>Sweet</td>\n",
       "      <td>Smooth</td>\n",
       "      <td>13.355588</td>\n",
       "      <td>59.900002</td>\n",
       "      <td>COMPRESS1</td>\n",
       "      <td>24.928162</td>\n",
       "      <td>Coat</td>\n",
       "      <td>104.157245</td>\n",
       "      <td>106.161784</td>\n",
       "      <td>68.345777</td>\n",
       "      <td>397.791824</td>\n",
       "      <td>58.991712</td>\n",
       "      <td>69.78</td>\n",
       "    </tr>\n",
       "  </tbody>\n",
       "</table>\n",
       "<p>90 rows × 18 columns</p>\n",
       "</div>"
      ],
      "text/plain": [
       "   API Particle Size  Mill Time  Screen Size MgSt Supplier Lactose Supplier  \\\n",
       "0              Small         27            4     Smith Ind        James Ind   \n",
       "1              Small         11            5     Jones Inc        James Ind   \n",
       "2              Small         20            4     Jones Inc         Bond Inc   \n",
       "3              Small         13            3     Smith Ind         Bond Inc   \n",
       "4              Small         13            5     Smith Ind        James Ind   \n",
       "..               ...        ...          ...           ...              ...   \n",
       "85             Large          5            4     Smith Ind        James Ind   \n",
       "86             Large         14            3     Smith Ind         Bond Inc   \n",
       "87             Large          9            5     Smith Ind         Bond Inc   \n",
       "88             Large         24            4     Smith Ind        James Ind   \n",
       "89             Large         13            5     Jones Inc         Bond Inc   \n",
       "\n",
       "   Sugar Supplier Talc Supplier  Blend Time  Blend Speed Compressor  \\\n",
       "0            Sour         Rough   16.043199    59.887383  COMPRESS2   \n",
       "1            Sour        Smooth   14.361549    59.793030  COMPRESS2   \n",
       "2            Sour         Rough   14.458745    60.797487  COMPRESS2   \n",
       "3           Sweet        Smooth   14.412131    59.398624  COMPRESS1   \n",
       "4           Sweet        Smooth   16.111780    59.921639  COMPRESS2   \n",
       "..            ...           ...         ...          ...        ...   \n",
       "85           Sour        Smooth   13.836013    59.105242  COMPRESS2   \n",
       "86          Sweet         Rough   16.963847    61.302848  COMPRESS2   \n",
       "87           Sour         Rough   16.505517    61.216797  COMPRESS2   \n",
       "88           Sour        Smooth   15.339437    60.448580  COMPRESS1   \n",
       "89          Sweet        Smooth   13.355588    59.900002  COMPRESS1   \n",
       "\n",
       "        Force Coating Supplier  Coating Viscosity  Inlet Temp  Exhaust Temp  \\\n",
       "0   25.466691              Mac         105.361158  107.945228     70.458995   \n",
       "1   24.934062              Mac         100.232484  107.540101     70.823684   \n",
       "2   25.503908             Down         100.271603  106.605861     69.197350   \n",
       "3   24.787632              Mac          98.008134  106.093734     68.809087   \n",
       "4   25.316775             Down          97.582630  108.257381     69.447385   \n",
       "..        ...              ...                ...         ...           ...   \n",
       "85  25.329694             Coat         101.600640  107.945423     69.915316   \n",
       "86  24.578408             Coat         102.168031  107.372107     70.598444   \n",
       "87  25.013860              Mac          94.154164  107.142674     69.645683   \n",
       "88  25.306691             Down          92.519135  107.320049     70.785988   \n",
       "89  24.928162             Coat         104.157245  106.161784     68.345777   \n",
       "\n",
       "    Spray Rate  Atom. Pressure  Dissolution  \n",
       "0   404.603294       61.007068        79.86  \n",
       "1   407.367163       60.571220        72.82  \n",
       "2   399.301868       59.088228        74.18  \n",
       "3   403.733927       58.844630        69.14  \n",
       "4   396.709347       59.589137        73.30  \n",
       "..         ...             ...          ...  \n",
       "85  401.016280       61.196363        70.58  \n",
       "86  402.636540       59.608586        69.70  \n",
       "87  398.417407       61.742415        77.22  \n",
       "88  404.073722       61.721232        78.58  \n",
       "89  397.791824       58.991712        69.78  \n",
       "\n",
       "[90 rows x 18 columns]"
      ]
     },
     "execution_count": 3,
     "metadata": {},
     "output_type": "execute_result"
    }
   ],
   "source": [
    "df"
   ]
  },
  {
   "cell_type": "code",
   "execution_count": 4,
   "id": "c78b08a1",
   "metadata": {},
   "outputs": [
    {
     "data": {
      "text/plain": [
       "API Particle Size     object\n",
       "Mill Time              int64\n",
       "Screen Size            int64\n",
       "MgSt Supplier         object\n",
       "Lactose Supplier      object\n",
       "Sugar Supplier        object\n",
       "Talc Supplier         object\n",
       "Blend Time           float64\n",
       "Blend Speed          float64\n",
       "Compressor            object\n",
       "Force                float64\n",
       "Coating Supplier      object\n",
       "Coating Viscosity    float64\n",
       "Inlet Temp           float64\n",
       "Exhaust Temp         float64\n",
       "Spray Rate           float64\n",
       "Atom. Pressure       float64\n",
       "Dissolution          float64\n",
       "dtype: object"
      ]
     },
     "execution_count": 4,
     "metadata": {},
     "output_type": "execute_result"
    }
   ],
   "source": [
    "df.dtypes"
   ]
  },
  {
   "cell_type": "code",
   "execution_count": 5,
   "id": "70517b3b",
   "metadata": {},
   "outputs": [
    {
     "data": {
      "text/plain": [
       "[0, 3, 4, 5, 6, 9, 11]"
      ]
     },
     "execution_count": 5,
     "metadata": {},
     "output_type": "execute_result"
    }
   ],
   "source": [
    "string_col_indices = []\n",
    "col_idx = df.dtypes.index[df.dtypes=='object']\n",
    "\n",
    "for i in col_idx:\n",
    "    column_index = df.columns.get_loc(i)\n",
    "    string_col_indices.append(column_index)\n",
    "    \n",
    "string_col_indices"
   ]
  },
  {
   "cell_type": "code",
   "execution_count": 6,
   "id": "a4b8176a",
   "metadata": {},
   "outputs": [
    {
     "data": {
      "text/plain": [
       "17"
      ]
     },
     "execution_count": 6,
     "metadata": {},
     "output_type": "execute_result"
    }
   ],
   "source": [
    "df.columns.get_loc('Dissolution')"
   ]
  },
  {
   "cell_type": "code",
   "execution_count": 7,
   "id": "d661b057",
   "metadata": {},
   "outputs": [],
   "source": [
    "y = df.iloc[:, -1].values #target variable: 'Dissolution'\n",
    "X = df.iloc[:, :-1].values # features: remaining variables"
   ]
  },
  {
   "cell_type": "code",
   "execution_count": 8,
   "id": "257bf6b8",
   "metadata": {},
   "outputs": [],
   "source": [
    "from sklearn.compose import ColumnTransformer\n",
    "from sklearn.preprocessing import OneHotEncoder\n",
    "ct = ColumnTransformer(transformers=[('encoder', OneHotEncoder(drop='first'), string_col_indices)], remainder='passthrough')\n",
    "X = np.array(ct.fit_transform(X)).astype('float64')"
   ]
  },
  {
   "cell_type": "code",
   "execution_count": 9,
   "id": "717f46ea",
   "metadata": {},
   "outputs": [
    {
     "data": {
      "text/plain": [
       "array([[  0.        ,   1.        ,   1.        , ...,  70.45899545,\n",
       "        404.60329386,  61.00706763],\n",
       "       [  0.        ,   1.        ,   0.        , ...,  70.8236838 ,\n",
       "        407.36716339,  60.57121956],\n",
       "       [  0.        ,   1.        ,   0.        , ...,  69.19734969,\n",
       "        399.30186834,  59.08822803],\n",
       "       ...,\n",
       "       [  0.        ,   0.        ,   1.        , ...,  69.6456833 ,\n",
       "        398.41740653,  61.74241532],\n",
       "       [  0.        ,   0.        ,   1.        , ...,  70.78598751,\n",
       "        404.07372181,  61.72123198],\n",
       "       [  0.        ,   0.        ,   0.        , ...,  68.34577656,\n",
       "        397.79182402,  58.99171248]])"
      ]
     },
     "execution_count": 9,
     "metadata": {},
     "output_type": "execute_result"
    }
   ],
   "source": [
    "X"
   ]
  },
  {
   "cell_type": "code",
   "execution_count": 10,
   "id": "109b0bfc",
   "metadata": {},
   "outputs": [
    {
     "data": {
      "text/plain": [
       "array([79.86, 72.82, 74.18, 69.14, 73.3 , 72.82, 69.46, 79.46, 74.18,\n",
       "       77.14, 71.46, 73.86, 80.42, 76.98, 75.14, 68.34, 67.46, 73.78,\n",
       "       81.14, 71.14, 78.26, 74.26, 76.42, 72.82, 74.42, 78.42, 75.46,\n",
       "       72.02, 70.66, 67.14, 77.62, 75.86, 66.42, 74.98, 74.18, 70.98,\n",
       "       67.3 , 70.26, 73.62, 73.3 , 73.14, 72.1 , 69.7 , 72.66, 69.7 ,\n",
       "       77.38, 74.02, 73.62, 69.86, 74.1 , 68.42, 69.22, 74.1 , 68.42,\n",
       "       72.26, 74.98, 72.34, 77.86, 71.22, 77.78, 68.18, 72.74, 74.82,\n",
       "       73.94, 76.9 , 68.5 , 77.54, 70.58, 70.98, 67.22, 69.78, 70.5 ,\n",
       "       67.94, 72.82, 67.22, 74.5 , 70.26, 73.78, 75.94, 77.14, 70.26,\n",
       "       70.5 , 69.3 , 66.1 , 69.86, 70.58, 69.7 , 77.22, 78.58, 69.78])"
      ]
     },
     "execution_count": 10,
     "metadata": {},
     "output_type": "execute_result"
    }
   ],
   "source": [
    "y"
   ]
  },
  {
   "cell_type": "code",
   "execution_count": 11,
   "id": "e161529d",
   "metadata": {},
   "outputs": [
    {
     "data": {
      "text/plain": [
       "(1, 1710)"
      ]
     },
     "execution_count": 11,
     "metadata": {},
     "output_type": "execute_result"
    }
   ],
   "source": [
    "X.reshape(1,-1).shape"
   ]
  },
  {
   "cell_type": "code",
   "execution_count": 12,
   "id": "d66fc7f4",
   "metadata": {},
   "outputs": [],
   "source": [
    "from sklearn.linear_model import LinearRegression\n",
    "regressor = LinearRegression()\n",
    "model = regressor.fit(X, y)"
   ]
  },
  {
   "cell_type": "code",
   "execution_count": 13,
   "id": "578ad172",
   "metadata": {},
   "outputs": [],
   "source": [
    "y_pred = regressor.predict(X)"
   ]
  },
  {
   "cell_type": "code",
   "execution_count": 14,
   "id": "019286b4",
   "metadata": {},
   "outputs": [
    {
     "data": {
      "image/png": "[encoded data removed]",
      "text/plain": [
       "<Figure size 432x288 with 1 Axes>"
      ]
     },
     "metadata": {
      "needs_background": "light"
     },
     "output_type": "display_data"
    }
   ],
   "source": [
    "plt.plot(X, y, 'ok');\n",
    "plt.plot(X, y_pred, '-r');"
   ]
  },
  {
   "cell_type": "code",
   "execution_count": 15,
   "id": "4f5f0b9c",
   "metadata": {},
   "outputs": [
    {
     "name": "stdout",
     "output_type": "stream",
     "text": [
      "0.9195813219425696\n"
     ]
    }
   ],
   "source": [
    "r_squared = model.score(X, y)\n",
    "print(r_squared)"
   ]
  },
  {
   "cell_type": "code",
   "execution_count": 16,
   "id": "7a758240",
   "metadata": {},
   "outputs": [
    {
     "name": "stdout",
     "output_type": "stream",
     "text": [
      "1.010255480160136\n"
     ]
    }
   ],
   "source": [
    "from sklearn.metrics import mean_squared_error\n",
    "from math import sqrt\n",
    "\n",
    "#calculate RMSE\n",
    "RMSE = sqrt(mean_squared_error(y, y_pred))\n",
    "print(RMSE)\n",
    "#the smaller the RMSE, the better a model is able to fit the data"
   ]
  },
  {
   "cell_type": "code",
   "execution_count": 17,
   "id": "cb42be2a",
   "metadata": {},
   "outputs": [
    {
     "data": {
      "text/plain": [
       "[<matplotlib.lines.Line2D at 0x1e91cadc4f0>]"
      ]
     },
     "execution_count": 17,
     "metadata": {},
     "output_type": "execute_result"
    },
    {
     "data": {
      "image/png": "[encoded data removed]",
      "text/plain": [
       "<Figure size 432x288 with 1 Axes>"
      ]
     },
     "metadata": {
      "needs_background": "light"
     },
     "output_type": "display_data"
    }
   ],
   "source": [
    "plt.plot(y-y_pred, '*k')"
   ]
  },
  {
   "cell_type": "code",
   "execution_count": 18,
   "id": "3c7c3906",
   "metadata": {
    "scrolled": true
   },
   "outputs": [
    {
     "data": {
      "text/plain": [
       "(array([ 5.,  5., 18., 18., 23., 12.,  5.,  0.,  0.,  4.]),\n",
       " array([-2.15135762, -1.61102618, -1.07069473, -0.53036329,  0.00996816,\n",
       "         0.5502996 ,  1.09063105,  1.63096249,  2.17129394,  2.71162538,\n",
       "         3.25195683]),\n",
       " <BarContainer object of 10 artists>)"
      ]
     },
     "execution_count": 18,
     "metadata": {},
     "output_type": "execute_result"
    },
    {
     "data": {
      "image/png": "[encoded data removed]",
      "text/plain": [
       "<Figure size 432x288 with 1 Axes>"
      ]
     },
     "metadata": {
      "needs_background": "light"
     },
     "output_type": "display_data"
    }
   ],
   "source": [
    "plt.hist(y-y_pred)"
   ]
  },
  {
   "cell_type": "code",
   "execution_count": 19,
   "id": "e0b92e67",
   "metadata": {},
   "outputs": [
    {
     "data": {
      "text/plain": [
       "array([-0.38245805,  1.20785459,  0.5925156 ,  0.3777475 , -1.68215771,\n",
       "       -1.12710952, -0.30869882, -0.11289935, -0.16156174,  0.34532681,\n",
       "        1.45578819,  0.2512283 ,  0.1101957 ,  0.76348441,  0.01915505,\n",
       "        0.01083696, -0.14969741,  0.00690573,  0.68427162])"
      ]
     },
     "execution_count": 19,
     "metadata": {},
     "output_type": "execute_result"
    }
   ],
   "source": [
    "model.coef_"
   ]
  },
  {
   "cell_type": "code",
   "execution_count": 20,
   "id": "67a57e37",
   "metadata": {},
   "outputs": [
    {
     "data": {
      "text/plain": [
       "-3.613138137911889"
      ]
     },
     "execution_count": 20,
     "metadata": {},
     "output_type": "execute_result"
    }
   ],
   "source": [
    "model.intercept_"
   ]
  },
  {
   "cell_type": "code",
   "execution_count": 21,
   "id": "a0f53524",
   "metadata": {},
   "outputs": [
    {
     "data": {
      "text/html": [
       "<table class=\"simpletable\">\n",
       "<caption>OLS Regression Results</caption>\n",
       "<tr>\n",
       "  <th>Dep. Variable:</th>            <td>y</td>        <th>  R-squared:         </th> <td>   0.920</td>\n",
       "</tr>\n",
       "<tr>\n",
       "  <th>Model:</th>                   <td>OLS</td>       <th>  Adj. R-squared:    </th> <td>   0.898</td>\n",
       "</tr>\n",
       "<tr>\n",
       "  <th>Method:</th>             <td>Least Squares</td>  <th>  F-statistic:       </th> <td>   42.13</td>\n",
       "</tr>\n",
       "<tr>\n",
       "  <th>Date:</th>             <td>Mon, 16 May 2022</td> <th>  Prob (F-statistic):</th> <td>7.90e-31</td>\n",
       "</tr>\n",
       "<tr>\n",
       "  <th>Time:</th>                 <td>20:11:16</td>     <th>  Log-Likelihood:    </th> <td> -128.62</td>\n",
       "</tr>\n",
       "<tr>\n",
       "  <th>No. Observations:</th>      <td>    90</td>      <th>  AIC:               </th> <td>   297.2</td>\n",
       "</tr>\n",
       "<tr>\n",
       "  <th>Df Residuals:</th>          <td>    70</td>      <th>  BIC:               </th> <td>   347.2</td>\n",
       "</tr>\n",
       "<tr>\n",
       "  <th>Df Model:</th>              <td>    19</td>      <th>                     </th>     <td> </td>   \n",
       "</tr>\n",
       "<tr>\n",
       "  <th>Covariance Type:</th>      <td>nonrobust</td>    <th>                     </th>     <td> </td>   \n",
       "</tr>\n",
       "</table>\n",
       "<table class=\"simpletable\">\n",
       "<tr>\n",
       "    <td></td>       <th>coef</th>     <th>std err</th>      <th>t</th>      <th>P>|t|</th>  <th>[0.025</th>    <th>0.975]</th>  \n",
       "</tr>\n",
       "<tr>\n",
       "  <th>const</th> <td>   -3.6131</td> <td>   23.258</td> <td>   -0.155</td> <td> 0.877</td> <td>  -50.000</td> <td>   42.774</td>\n",
       "</tr>\n",
       "<tr>\n",
       "  <th>x1</th>    <td>   -0.3825</td> <td>    0.318</td> <td>   -1.202</td> <td> 0.234</td> <td>   -1.017</td> <td>    0.252</td>\n",
       "</tr>\n",
       "<tr>\n",
       "  <th>x2</th>    <td>    1.2079</td> <td>    0.345</td> <td>    3.502</td> <td> 0.001</td> <td>    0.520</td> <td>    1.896</td>\n",
       "</tr>\n",
       "<tr>\n",
       "  <th>x3</th>    <td>    0.5925</td> <td>    0.260</td> <td>    2.278</td> <td> 0.026</td> <td>    0.074</td> <td>    1.111</td>\n",
       "</tr>\n",
       "<tr>\n",
       "  <th>x4</th>    <td>    0.3777</td> <td>    0.264</td> <td>    1.432</td> <td> 0.157</td> <td>   -0.148</td> <td>    0.904</td>\n",
       "</tr>\n",
       "<tr>\n",
       "  <th>x5</th>    <td>   -1.6822</td> <td>    0.274</td> <td>   -6.140</td> <td> 0.000</td> <td>   -2.229</td> <td>   -1.136</td>\n",
       "</tr>\n",
       "<tr>\n",
       "  <th>x6</th>    <td>   -1.1271</td> <td>    0.287</td> <td>   -3.932</td> <td> 0.000</td> <td>   -1.699</td> <td>   -0.555</td>\n",
       "</tr>\n",
       "<tr>\n",
       "  <th>x7</th>    <td>   -0.3087</td> <td>    0.266</td> <td>   -1.161</td> <td> 0.249</td> <td>   -0.839</td> <td>    0.221</td>\n",
       "</tr>\n",
       "<tr>\n",
       "  <th>x8</th>    <td>   -0.1129</td> <td>    0.330</td> <td>   -0.342</td> <td> 0.733</td> <td>   -0.771</td> <td>    0.546</td>\n",
       "</tr>\n",
       "<tr>\n",
       "  <th>x9</th>    <td>   -0.1616</td> <td>    0.341</td> <td>   -0.474</td> <td> 0.637</td> <td>   -0.841</td> <td>    0.518</td>\n",
       "</tr>\n",
       "<tr>\n",
       "  <th>x10</th>   <td>    0.3453</td> <td>    0.017</td> <td>   20.871</td> <td> 0.000</td> <td>    0.312</td> <td>    0.378</td>\n",
       "</tr>\n",
       "<tr>\n",
       "  <th>x11</th>   <td>    1.4558</td> <td>    0.158</td> <td>    9.188</td> <td> 0.000</td> <td>    1.140</td> <td>    1.772</td>\n",
       "</tr>\n",
       "<tr>\n",
       "  <th>x12</th>   <td>    0.2512</td> <td>    0.094</td> <td>    2.687</td> <td> 0.009</td> <td>    0.065</td> <td>    0.438</td>\n",
       "</tr>\n",
       "<tr>\n",
       "  <th>x13</th>   <td>    0.1102</td> <td>    0.158</td> <td>    0.696</td> <td> 0.489</td> <td>   -0.206</td> <td>    0.426</td>\n",
       "</tr>\n",
       "<tr>\n",
       "  <th>x14</th>   <td>    0.7635</td> <td>    0.414</td> <td>    1.846</td> <td> 0.069</td> <td>   -0.061</td> <td>    1.588</td>\n",
       "</tr>\n",
       "<tr>\n",
       "  <th>x15</th>   <td>    0.0192</td> <td>    0.027</td> <td>    0.717</td> <td> 0.476</td> <td>   -0.034</td> <td>    0.072</td>\n",
       "</tr>\n",
       "<tr>\n",
       "  <th>x16</th>   <td>    0.0108</td> <td>    0.134</td> <td>    0.081</td> <td> 0.936</td> <td>   -0.257</td> <td>    0.279</td>\n",
       "</tr>\n",
       "<tr>\n",
       "  <th>x17</th>   <td>   -0.1497</td> <td>    0.131</td> <td>   -1.147</td> <td> 0.255</td> <td>   -0.410</td> <td>    0.111</td>\n",
       "</tr>\n",
       "<tr>\n",
       "  <th>x18</th>   <td>    0.0069</td> <td>    0.026</td> <td>    0.265</td> <td> 0.792</td> <td>   -0.045</td> <td>    0.059</td>\n",
       "</tr>\n",
       "<tr>\n",
       "  <th>x19</th>   <td>    0.6843</td> <td>    0.141</td> <td>    4.844</td> <td> 0.000</td> <td>    0.403</td> <td>    0.966</td>\n",
       "</tr>\n",
       "</table>\n",
       "<table class=\"simpletable\">\n",
       "<tr>\n",
       "  <th>Omnibus:</th>       <td>16.640</td> <th>  Durbin-Watson:     </th> <td>   1.976</td>\n",
       "</tr>\n",
       "<tr>\n",
       "  <th>Prob(Omnibus):</th> <td> 0.000</td> <th>  Jarque-Bera (JB):  </th> <td>  22.714</td>\n",
       "</tr>\n",
       "<tr>\n",
       "  <th>Skew:</th>          <td> 0.850</td> <th>  Prob(JB):          </th> <td>1.17e-05</td>\n",
       "</tr>\n",
       "<tr>\n",
       "  <th>Kurtosis:</th>      <td> 4.779</td> <th>  Cond. No.          </th> <td>8.49e+04</td>\n",
       "</tr>\n",
       "</table><br/><br/>Notes:<br/>[1] Standard Errors assume that the covariance matrix of the errors is correctly specified.<br/>[2] The condition number is large, 8.49e+04. This might indicate that there are<br/>strong multicollinearity or other numerical problems."
      ],
      "text/plain": [
       "<class 'statsmodels.iolib.summary.Summary'>\n",
       "\"\"\"\n",
       "                            OLS Regression Results                            \n",
       "==============================================================================\n",
       "Dep. Variable:                      y   R-squared:                       0.920\n",
       "Model:                            OLS   Adj. R-squared:                  0.898\n",
       "Method:                 Least Squares   F-statistic:                     42.13\n",
       "Date:                Mon, 16 May 2022   Prob (F-statistic):           7.90e-31\n",
       "Time:                        20:11:16   Log-Likelihood:                -128.62\n",
       "No. Observations:                  90   AIC:                             297.2\n",
       "Df Residuals:                      70   BIC:                             347.2\n",
       "Df Model:                          19                                         \n",
       "Covariance Type:            nonrobust                                         \n",
       "==============================================================================\n",
       "                 coef    std err          t      P>|t|      [0.025      0.975]\n",
       "------------------------------------------------------------------------------\n",
       "const         -3.6131     23.258     -0.155      0.877     -50.000      42.774\n",
       "x1            -0.3825      0.318     -1.202      0.234      -1.017       0.252\n",
       "x2             1.2079      0.345      3.502      0.001       0.520       1.896\n",
       "x3             0.5925      0.260      2.278      0.026       0.074       1.111\n",
       "x4             0.3777      0.264      1.432      0.157      -0.148       0.904\n",
       "x5            -1.6822      0.274     -6.140      0.000      -2.229      -1.136\n",
       "x6            -1.1271      0.287     -3.932      0.000      -1.699      -0.555\n",
       "x7            -0.3087      0.266     -1.161      0.249      -0.839       0.221\n",
       "x8            -0.1129      0.330     -0.342      0.733      -0.771       0.546\n",
       "x9            -0.1616      0.341     -0.474      0.637      -0.841       0.518\n",
       "x10            0.3453      0.017     20.871      0.000       0.312       0.378\n",
       "x11            1.4558      0.158      9.188      0.000       1.140       1.772\n",
       "x12            0.2512      0.094      2.687      0.009       0.065       0.438\n",
       "x13            0.1102      0.158      0.696      0.489      -0.206       0.426\n",
       "x14            0.7635      0.414      1.846      0.069      -0.061       1.588\n",
       "x15            0.0192      0.027      0.717      0.476      -0.034       0.072\n",
       "x16            0.0108      0.134      0.081      0.936      -0.257       0.279\n",
       "x17           -0.1497      0.131     -1.147      0.255      -0.410       0.111\n",
       "x18            0.0069      0.026      0.265      0.792      -0.045       0.059\n",
       "x19            0.6843      0.141      4.844      0.000       0.403       0.966\n",
       "==============================================================================\n",
       "Omnibus:                       16.640   Durbin-Watson:                   1.976\n",
       "Prob(Omnibus):                  0.000   Jarque-Bera (JB):               22.714\n",
       "Skew:                           0.850   Prob(JB):                     1.17e-05\n",
       "Kurtosis:                       4.779   Cond. No.                     8.49e+04\n",
       "==============================================================================\n",
       "\n",
       "Notes:\n",
       "[1] Standard Errors assume that the covariance matrix of the errors is correctly specified.\n",
       "[2] The condition number is large, 8.49e+04. This might indicate that there are\n",
       "strong multicollinearity or other numerical problems.\n",
       "\"\"\""
      ]
     },
     "execution_count": 21,
     "metadata": {},
     "output_type": "execute_result"
    }
   ],
   "source": [
    "import statsmodels.api as sm # import statsmodels \n",
    "\n",
    "X = sm.add_constant(X) ## let's add an intercept (beta_0) to our model\n",
    "\n",
    "# Note the difference in argument order\n",
    "model = sm.OLS(y, X).fit() ## sm.OLS(output, input)\n",
    "predictions = model.predict(X)\n",
    "\n",
    "# Print out the statistics\n",
    "model.summary()"
   ]
  }
 ],
 "metadata": {
  "kernelspec": {
   "display_name": "Python 3 (ipykernel)",
   "language": "python",
   "name": "python3"
  },
  "language_info": {
   "codemirror_mode": {
    "name": "ipython",
    "version": 3
   },
   "file_extension": ".py",
   "mimetype": "text/x-python",
   "name": "python",
   "nbconvert_exporter": "python",
   "pygments_lexer": "ipython3",
   "version": "3.10.4"
  }
 },
 "nbformat": 4,
 "nbformat_minor": 5
}
