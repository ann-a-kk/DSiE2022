{
 "cells": [
  {
   "cell_type": "code",
   "execution_count": 1,
   "id": "64d96fb0",
   "metadata": {},
   "outputs": [],
   "source": [
    "#Importing libraries\n",
    "import pandas as pd\n",
    "import numpy as np\n",
    "import scipy as sp\n",
    "from scipy import stats\n",
    "import matplotlib.pyplot as plt"
   ]
  },
  {
   "cell_type": "markdown",
   "id": "2262bb40",
   "metadata": {},
   "source": [
    "## Data Preprocessing"
   ]
  },
  {
   "cell_type": "code",
   "execution_count": 2,
   "id": "17ddd2f2",
   "metadata": {},
   "outputs": [],
   "source": [
    "#Data dictionary \n",
    "dat = {'yield': [93.1, 93.6, 91.6, 92.5, 95.1, 94.6, 94.2, 91.9], 'catalyst': ['A', 'A', 'A', 'A', 'B', 'B', 'B', 'B']}"
   ]
  },
  {
   "cell_type": "code",
   "execution_count": 3,
   "id": "c0056929",
   "metadata": {},
   "outputs": [],
   "source": [
    "df = pd.DataFrame.from_dict(dat)\n",
    "cat_A = df[df['catalyst'] =='A']\n",
    "cat_B = df[df['catalyst'] =='B']"
   ]
  },
  {
   "cell_type": "code",
   "execution_count": 4,
   "id": "e280b1b3",
   "metadata": {},
   "outputs": [
    {
     "data": {
      "text/html": [
       "<div>\n",
       "<style scoped>\n",
       "    .dataframe tbody tr th:only-of-type {\n",
       "        vertical-align: middle;\n",
       "    }\n",
       "\n",
       "    .dataframe tbody tr th {\n",
       "        vertical-align: top;\n",
       "    }\n",
       "\n",
       "    .dataframe thead th {\n",
       "        text-align: right;\n",
       "    }\n",
       "</style>\n",
       "<table border=\"1\" class=\"dataframe\">\n",
       "  <thead>\n",
       "    <tr style=\"text-align: right;\">\n",
       "      <th></th>\n",
       "      <th>yield</th>\n",
       "      <th>catalyst</th>\n",
       "    </tr>\n",
       "  </thead>\n",
       "  <tbody>\n",
       "    <tr>\n",
       "      <th>0</th>\n",
       "      <td>93.1</td>\n",
       "      <td>A</td>\n",
       "    </tr>\n",
       "    <tr>\n",
       "      <th>1</th>\n",
       "      <td>93.6</td>\n",
       "      <td>A</td>\n",
       "    </tr>\n",
       "    <tr>\n",
       "      <th>2</th>\n",
       "      <td>91.6</td>\n",
       "      <td>A</td>\n",
       "    </tr>\n",
       "    <tr>\n",
       "      <th>3</th>\n",
       "      <td>92.5</td>\n",
       "      <td>A</td>\n",
       "    </tr>\n",
       "  </tbody>\n",
       "</table>\n",
       "</div>"
      ],
      "text/plain": [
       "   yield catalyst\n",
       "0   93.1        A\n",
       "1   93.6        A\n",
       "2   91.6        A\n",
       "3   92.5        A"
      ]
     },
     "execution_count": 4,
     "metadata": {},
     "output_type": "execute_result"
    }
   ],
   "source": [
    "cat_A"
   ]
  },
  {
   "cell_type": "code",
   "execution_count": 5,
   "id": "9ab33653",
   "metadata": {},
   "outputs": [
    {
     "data": {
      "text/plain": [
       "count     4.000000\n",
       "mean     92.700000\n",
       "std       0.860233\n",
       "min      91.600000\n",
       "25%      92.275000\n",
       "50%      92.800000\n",
       "75%      93.225000\n",
       "max      93.600000\n",
       "Name: yield, dtype: float64"
      ]
     },
     "execution_count": 5,
     "metadata": {},
     "output_type": "execute_result"
    }
   ],
   "source": [
    "cat_A['yield'].describe() #sample mean X_A = 92.70 sample std deviation sigma_A = 0.86"
   ]
  },
  {
   "cell_type": "code",
   "execution_count": 6,
   "id": "93a608ef",
   "metadata": {},
   "outputs": [
    {
     "data": {
      "text/plain": [
       "count     4.000000\n",
       "mean     93.950000\n",
       "std       1.415392\n",
       "min      91.900000\n",
       "25%      93.625000\n",
       "50%      94.400000\n",
       "75%      94.725000\n",
       "max      95.100000\n",
       "Name: yield, dtype: float64"
      ]
     },
     "execution_count": 6,
     "metadata": {},
     "output_type": "execute_result"
    }
   ],
   "source": [
    "cat_B['yield'].describe() #sample mean X_B = 93.95 sample std deviation sigma_B = 1.42"
   ]
  },
  {
   "cell_type": "code",
   "execution_count": 7,
   "id": "1b596101",
   "metadata": {},
   "outputs": [],
   "source": [
    "yield_A = np.asarray(cat_A['yield'].tolist())\n",
    "X_A = yield_A.mean() #X_A = cat_A['yield'].describe()['mean']\n",
    "sigma_A = yield_A.std()\n",
    "\n",
    "yield_B = np.asarray(cat_B['yield'].tolist())\n",
    "X_B = float(yield_B.mean())\n",
    "sigma_B = yield_B.std()"
   ]
  },
  {
   "cell_type": "markdown",
   "id": "a7079445",
   "metadata": {},
   "source": [
    "##### To be tested: X_B > X_A ? \n",
    "**Hypothesis testing**: the null hypothesis H_0: X_B <= X_A and the alternative hypothesis H_1:  X_B > X_A (same for all the following tests)"
   ]
  },
  {
   "cell_type": "markdown",
   "id": "cb16ca9b",
   "metadata": {},
   "source": [
    "## TEST 1: One-sample Gauss-test"
   ]
  },
  {
   "cell_type": "markdown",
   "id": "36b2a030",
   "metadata": {},
   "source": [
    "One-sample test for comparing an **estimated mean** with **known variance** with an **known population mean**."
   ]
  },
  {
   "cell_type": "markdown",
   "id": "dec0ddae",
   "metadata": {},
   "source": [
    "**Assumptions**: X_A and sigma_A are the true values // Estimation: sigma_B = sigma_A"
   ]
  },
  {
   "cell_type": "code",
   "execution_count": 8,
   "id": "8f39b823",
   "metadata": {},
   "outputs": [
    {
     "data": {
      "text/plain": [
       "3.355780276070123"
      ]
     },
     "execution_count": 8,
     "metadata": {},
     "output_type": "execute_result"
    }
   ],
   "source": [
    "#sample mean X_A = 92.70 sample std deviation sigma_A = sigma_B = 0.86\n",
    "#sample mean X_B = 93.95\n",
    "\n",
    "#Z-Transformation:\n",
    "def Z_score(x, mu, sigma, n):\n",
    "    Z = (x - mu)/(sigma/np.sqrt(n))\n",
    "    return Z\n",
    "\n",
    "Z = Z_score(X_B, X_A, sigma_A, 4)\n",
    "Z #test statistic (z-score)"
   ]
  },
  {
   "cell_type": "code",
   "execution_count": 9,
   "id": "d4a98672",
   "metadata": {},
   "outputs": [
    {
     "name": "stdout",
     "output_type": "stream",
     "text": [
      "0.00039570709399832055\n"
     ]
    }
   ],
   "source": [
    "result1 = sp.stats.norm.sf(abs(Z)) #p-value\n",
    "print(result1)"
   ]
  },
  {
   "cell_type": "markdown",
   "id": "e83ed42a",
   "metadata": {},
   "source": [
    "The probability of a value being larger than X_A equals 0.0004 (0.04 %). If we use a significance level of α = 0.05, we would reject the null hypothesis of our hypothesis test because this p-value is less than 0.05."
   ]
  },
  {
   "cell_type": "markdown",
   "id": "aef31e29",
   "metadata": {},
   "source": [
    "## TEST 2: One-sample one-sided t-test"
   ]
  },
  {
   "cell_type": "markdown",
   "id": "8893e4b6",
   "metadata": {},
   "source": [
    "One-sample one-sided t-test comparing **estimated mean and variance** with the **true population mean**."
   ]
  },
  {
   "cell_type": "markdown",
   "id": "ad7b6efc",
   "metadata": {},
   "source": [
    "**Assumptions**: X_A is the true value, X_B is estimated // Estimation: sigma_B = sigma_A // std errors estimated from catalyst B"
   ]
  },
  {
   "cell_type": "code",
   "execution_count": 10,
   "id": "dc924f83",
   "metadata": {},
   "outputs": [
    {
     "data": {
      "text/plain": [
       "1.7662956527090035"
      ]
     },
     "execution_count": 10,
     "metadata": {},
     "output_type": "execute_result"
    }
   ],
   "source": [
    "#sample mean X_A = 92.70 sample std deviation sigma_A = sigma_B = 0.86\n",
    "#sample mean X_B = 93.95\n",
    "\n",
    "result2 = sp.stats.ttest_1samp(yield_B, X_A, alternative='greater')\n",
    "result2.statistic #test statistic"
   ]
  },
  {
   "cell_type": "code",
   "execution_count": 11,
   "id": "ae810812",
   "metadata": {},
   "outputs": [
    {
     "data": {
      "text/plain": [
       "0.08775976170119658"
      ]
     },
     "execution_count": 11,
     "metadata": {},
     "output_type": "execute_result"
    }
   ],
   "source": [
    "result2.pvalue #p-value"
   ]
  },
  {
   "cell_type": "markdown",
   "id": "f60ecd57",
   "metadata": {},
   "source": [
    "The probability of a value being larger than X_A equals 8.8 %."
   ]
  },
  {
   "cell_type": "markdown",
   "id": "ab9ec972",
   "metadata": {},
   "source": [
    "The result is not significant as p = 0.088 > 0.05 so the null hypothesis can not be rejected based on the available data."
   ]
  },
  {
   "cell_type": "markdown",
   "id": "0ff0e882",
   "metadata": {},
   "source": [
    "## TEST 3: Two-sample one-sided t-test"
   ]
  },
  {
   "cell_type": "markdown",
   "id": "1f240814",
   "metadata": {},
   "source": [
    "Two-sample one-sided t-test comparing **estimated mean and variance** with an **estimated mean**."
   ]
  },
  {
   "cell_type": "markdown",
   "id": "d7be4ba6",
   "metadata": {},
   "source": [
    "**Assumptions**: X_A and X_B are estimated // Estimation: sigma_B = sigma_A // std errors estimated from catalysts A and B"
   ]
  },
  {
   "cell_type": "code",
   "execution_count": 12,
   "id": "6bd1a74f",
   "metadata": {},
   "outputs": [
    {
     "data": {
      "text/plain": [
       "1.5093873935364372"
      ]
     },
     "execution_count": 12,
     "metadata": {},
     "output_type": "execute_result"
    }
   ],
   "source": [
    "#sample mean X_A = 92.70 sample std deviation sigma**2 = 0.5*(sigma_B**2 + sigma_A**2)\n",
    "#sample mean X_B = 93.95\n",
    "\n",
    "result3 = sp.stats.ttest_ind(yield_B, yield_A, equal_var=True, alternative='greater', trim=0)\n",
    "result3.statistic"
   ]
  },
  {
   "cell_type": "code",
   "execution_count": 13,
   "id": "2796d1c2",
   "metadata": {},
   "outputs": [
    {
     "data": {
      "text/plain": [
       "0.09096874750914657"
      ]
     },
     "execution_count": 13,
     "metadata": {},
     "output_type": "execute_result"
    }
   ],
   "source": [
    "result3.pvalue"
   ]
  },
  {
   "cell_type": "markdown",
   "id": "e39f1852",
   "metadata": {},
   "source": [
    "The probability of a value being larger than X_A equals 9.1 %."
   ]
  },
  {
   "cell_type": "markdown",
   "id": "7f51828f",
   "metadata": {},
   "source": [
    "The p-value is larger than in test 2; the reason for this is that we have another t-distribution as before due to \n",
    "different number of degrees of freedoms."
   ]
  }
 ],
 "metadata": {
  "kernelspec": {
   "display_name": "Python 3 (ipykernel)",
   "language": "python",
   "name": "python3"
  },
  "language_info": {
   "codemirror_mode": {
    "name": "ipython",
    "version": 3
   },
   "file_extension": ".py",
   "mimetype": "text/x-python",
   "name": "python",
   "nbconvert_exporter": "python",
   "pygments_lexer": "ipython3",
   "version": "3.10.4"
  }
 },
 "nbformat": 4,
 "nbformat_minor": 5
}
